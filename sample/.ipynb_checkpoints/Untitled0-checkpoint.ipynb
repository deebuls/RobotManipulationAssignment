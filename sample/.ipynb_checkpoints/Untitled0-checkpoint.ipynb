{
 "metadata": {
  "name": "",
  "signature": "sha256:82924265614c4808f5e6de02bc9fb0a992aab615985feceb630c8861766783d5"
 },
 "nbformat": 3,
 "nbformat_minor": 0,
 "worksheets": []
}